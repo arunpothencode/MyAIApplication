{
  "cells": [
    {
      "cell_type": "markdown",
      "metadata": {
        "id": "view-in-github",
        "colab_type": "text"
      },
      "source": [
        "<a href=\"https://colab.research.google.com/github/arunpothencode/MyAIApplication/blob/dev20Nov24/templates/aistudio_gemini_prompt_freeform.ipynb\" target=\"_parent\"><img src=\"https://colab.research.google.com/assets/colab-badge.svg\" alt=\"Open In Colab\"/></a>"
      ]
    },
    {
      "cell_type": "markdown",
      "metadata": {
        "id": "Tce3stUlHN0L"
      },
      "source": [
        "##### Copyright 2023 Google LLC"
      ]
    },
    {
      "cell_type": "code",
      "execution_count": 1,
      "metadata": {
        "cellView": "form",
        "id": "tuOe1ymfHZPu"
      },
      "outputs": [],
      "source": [
        "# @title Licensed under the Apache License, Version 2.0 (the \"License\");\n",
        "# you may not use this file except in compliance with the License.\n",
        "# You may obtain a copy of the License at\n",
        "#\n",
        "# https://www.apache.org/licenses/LICENSE-2.0\n",
        "#\n",
        "# Unless required by applicable law or agreed to in writing, software\n",
        "# distributed under the License is distributed on an \"AS IS\" BASIS,\n",
        "# WITHOUT WARRANTIES OR CONDITIONS OF ANY KIND, either express or implied.\n",
        "# See the License for the specific language governing permissions and\n",
        "# limitations under the License."
      ]
    },
    {
      "cell_type": "markdown",
      "metadata": {
        "id": "FKwyTRdwB8aW"
      },
      "source": [
        "## Setup"
      ]
    },
    {
      "cell_type": "code",
      "execution_count": 2,
      "metadata": {
        "id": "RXInneX6xx7c"
      },
      "outputs": [],
      "source": [
        "!pip install -U -q \"google-generativeai>=0.8.2\""
      ]
    },
    {
      "cell_type": "code",
      "execution_count": 3,
      "metadata": {
        "cellView": "form",
        "id": "kWIuwKG2_oWE",
        "colab": {
          "base_uri": "https://localhost:8080/"
        },
        "outputId": "b3a9ddf7-38dd-4730-d5ab-9563634e0673"
      },
      "outputs": [
        {
          "output_type": "stream",
          "name": "stdout",
          "text": [
            "[\n",
            "    {\n",
            "        \"role\": \"user\",\n",
            "        \"parts\": [\n",
            "            {\n",
            "                \"text\": \"Here's a Python function that sorts a list of numbers in ascending order. Identify the time complexity of this function. Then optimize this function and explain why it is faster. Don't use Python's in-built sort() method.\\\\n\\\\n\\\\n```def sort_list(list_to_sort):\\\\n  \\\\\\\"\\\\\\\"\\\\\\\"\\\\n  This function sorts a list of numbers in ascending order using the bubble sort algorithm.\\\\n\\\\n  Args:\\\\n    list_to_sort: A list of numbers to be sorted.\\\\n\\\\n  Returns:\\\\n    A new list with the numbers sorted in ascending order.\\\\n  \\\\\\\"\\\\\\\"\\\\\\\"\\\\n  # Create a copy of the list to avoid modifying the original\\\\n  sorted_list = list_to_sort.copy()\\\\n  n = len(sorted_list)\\\\n\\\\n  # Iterate through the list n-1 times\\\\n  for i in range(n-1):\\\\n    # Flag to track if any swaps were made in a pass\\\\n    swapped = False\\\\n    # Iterate through the unsorted portion of the list\\\\n    for j in range(n-i-1):\\\\n      # Compare adjacent elements and swap if necessary\\\\n      if sorted_list[j] > sorted_list[j+1]:\\\\n        sorted_list[j], sorted_list[j+1] = sorted_list[j+1], sorted_list[j]\\\\n        swapped = True\\\\n    # If no swaps were made, the list is already sorted\\\\n    if not swapped:\\\\n      break\\\\n\\\\n  # Return the sorted list\\\\n  return sorted_list\\\\n\\\\n# Example usage\\\\nmy_list = [1, 9, 5, 2, 1, 8, 6, 6, 3, 4, 10, 7]\\\\nsorted_list = sort_list(my_list)\\\\nprint(sorted_list)  # Output: [1, 1, 2, 3, 4, 5, 6, 6, 7, 8, 9, 10]\\\\n```\"\n",
            "            }\n",
            "        ]\n",
            "    }\n",
            "]\n"
          ]
        }
      ],
      "source": [
        "# import necessary modules.\n",
        "import base64\n",
        "import copy\n",
        "import json\n",
        "import pathlib\n",
        "import requests\n",
        "\n",
        "\n",
        "import PIL.Image\n",
        "import IPython.display\n",
        "from IPython.display import Markdown\n",
        "\n",
        "try:\n",
        "    # The SDK will automatically read it from the GOOGLE_API_KEY environment variable.\n",
        "    # In Colab get the key from Colab-secrets (\"🔑\" in the left panel).\n",
        "    import os\n",
        "    from google.colab import userdata\n",
        "\n",
        "    os.environ[\"GOOGLE_API_KEY\"] = userdata.get(\"GOOGLE_API_KEY\")\n",
        "except ImportError:\n",
        "    pass\n",
        "\n",
        "import google.generativeai as genai\n",
        "\n",
        "# Parse the arguments\n",
        "\n",
        "model = 'gemini-1.5-flash' # @param {isTemplate: true}\n",
        "contents_b64 = 'W3sicm9sZSI6InVzZXIiLCJwYXJ0cyI6W3sidGV4dCI6IkhlcmUncyBhIFB5dGhvbiBmdW5jdGlvbiB0aGF0IHNvcnRzIGEgbGlzdCBvZiBudW1iZXJzIGluIGFzY2VuZGluZyBvcmRlci4gSWRlbnRpZnkgdGhlIHRpbWUgY29tcGxleGl0eSBvZiB0aGlzIGZ1bmN0aW9uLiBUaGVuIG9wdGltaXplIHRoaXMgZnVuY3Rpb24gYW5kIGV4cGxhaW4gd2h5IGl0IGlzIGZhc3Rlci4gRG9uJ3QgdXNlIFB5dGhvbidzIGluLWJ1aWx0IHNvcnQoKSBtZXRob2QuXFxuXFxuXFxuYGBgZGVmIHNvcnRfbGlzdChsaXN0X3RvX3NvcnQpOlxcbiAgXFxcIlxcXCJcXFwiXFxuICBUaGlzIGZ1bmN0aW9uIHNvcnRzIGEgbGlzdCBvZiBudW1iZXJzIGluIGFzY2VuZGluZyBvcmRlciB1c2luZyB0aGUgYnViYmxlIHNvcnQgYWxnb3JpdGhtLlxcblxcbiAgQXJnczpcXG4gICAgbGlzdF90b19zb3J0OiBBIGxpc3Qgb2YgbnVtYmVycyB0byBiZSBzb3J0ZWQuXFxuXFxuICBSZXR1cm5zOlxcbiAgICBBIG5ldyBsaXN0IHdpdGggdGhlIG51bWJlcnMgc29ydGVkIGluIGFzY2VuZGluZyBvcmRlci5cXG4gIFxcXCJcXFwiXFxcIlxcbiAgIyBDcmVhdGUgYSBjb3B5IG9mIHRoZSBsaXN0IHRvIGF2b2lkIG1vZGlmeWluZyB0aGUgb3JpZ2luYWxcXG4gIHNvcnRlZF9saXN0ID0gbGlzdF90b19zb3J0LmNvcHkoKVxcbiAgbiA9IGxlbihzb3J0ZWRfbGlzdClcXG5cXG4gICMgSXRlcmF0ZSB0aHJvdWdoIHRoZSBsaXN0IG4tMSB0aW1lc1xcbiAgZm9yIGkgaW4gcmFuZ2Uobi0xKTpcXG4gICAgIyBGbGFnIHRvIHRyYWNrIGlmIGFueSBzd2FwcyB3ZXJlIG1hZGUgaW4gYSBwYXNzXFxuICAgIHN3YXBwZWQgPSBGYWxzZVxcbiAgICAjIEl0ZXJhdGUgdGhyb3VnaCB0aGUgdW5zb3J0ZWQgcG9ydGlvbiBvZiB0aGUgbGlzdFxcbiAgICBmb3IgaiBpbiByYW5nZShuLWktMSk6XFxuICAgICAgIyBDb21wYXJlIGFkamFjZW50IGVsZW1lbnRzIGFuZCBzd2FwIGlmIG5lY2Vzc2FyeVxcbiAgICAgIGlmIHNvcnRlZF9saXN0W2pdID4gc29ydGVkX2xpc3RbaisxXTpcXG4gICAgICAgIHNvcnRlZF9saXN0W2pdLCBzb3J0ZWRfbGlzdFtqKzFdID0gc29ydGVkX2xpc3RbaisxXSwgc29ydGVkX2xpc3Rbal1cXG4gICAgICAgIHN3YXBwZWQgPSBUcnVlXFxuICAgICMgSWYgbm8gc3dhcHMgd2VyZSBtYWRlLCB0aGUgbGlzdCBpcyBhbHJlYWR5IHNvcnRlZFxcbiAgICBpZiBub3Qgc3dhcHBlZDpcXG4gICAgICBicmVha1xcblxcbiAgIyBSZXR1cm4gdGhlIHNvcnRlZCBsaXN0XFxuICByZXR1cm4gc29ydGVkX2xpc3RcXG5cXG4jIEV4YW1wbGUgdXNhZ2VcXG5teV9saXN0ID0gWzEsIDksIDUsIDIsIDEsIDgsIDYsIDYsIDMsIDQsIDEwLCA3XVxcbnNvcnRlZF9saXN0ID0gc29ydF9saXN0KG15X2xpc3QpXFxucHJpbnQoc29ydGVkX2xpc3QpICAjIE91dHB1dDogWzEsIDEsIDIsIDMsIDQsIDUsIDYsIDYsIDcsIDgsIDksIDEwXVxcbmBgYCJ9XX1d' # @param {isTemplate: true}\n",
        "generation_config_b64 = 'eyJ0ZW1wZXJhdHVyZSI6MSwidG9wX3AiOjAuOTUsInRvcF9rIjo2NCwibWF4X291dHB1dF90b2tlbnMiOjgxOTJ9' # @param {isTemplate: true}\n",
        "safety_settings_b64 = \"e30=\"  # @param {isTemplate: true}\n",
        "\n",
        "gais_contents = json.loads(base64.b64decode(contents_b64))\n",
        "\n",
        "generation_config = json.loads(base64.b64decode(generation_config_b64))\n",
        "safety_settings = json.loads(base64.b64decode(safety_settings_b64))\n",
        "\n",
        "stream = False\n",
        "\n",
        "# Convert and upload the files\n",
        "\n",
        "tempfiles = pathlib.Path(f\"tempfiles\")\n",
        "tempfiles.mkdir(parents=True, exist_ok=True)\n",
        "\n",
        "\n",
        "drive = None\n",
        "def upload_file_data(file_data, index):\n",
        "    \"\"\"Upload files to the Files API.\n",
        "\n",
        "    For each file, Google AI Studio either sent:\n",
        "    - a Google Drive ID,\n",
        "    - a URL,\n",
        "    - a file path, or\n",
        "    - The raw bytes (`inline_data`).\n",
        "\n",
        "    The API only understands `inline_data` or it's Files API.\n",
        "    This code, uploads files to the files API where the API can access them.\n",
        "    \"\"\"\n",
        "\n",
        "    mime_type = file_data[\"mime_type\"]\n",
        "    if drive_id := file_data.pop(\"drive_id\", None):\n",
        "        if drive is None:\n",
        "          from google.colab import drive\n",
        "          drive.mount(\"/gdrive\")\n",
        "\n",
        "        path = next(\n",
        "            pathlib.Path(f\"/gdrive/.shortcut-targets-by-id/{drive_id}\").glob(\"*\")\n",
        "        )\n",
        "        print(\"Uploading:\", str(path))\n",
        "        file_info = genai.upload_file(path=path, mime_type=mime_type)\n",
        "        file_data[\"file_uri\"] = file_info.uri\n",
        "        return\n",
        "\n",
        "    if url := file_data.pop(\"url\", None):\n",
        "        response = requests.get(url)\n",
        "        data = response.content\n",
        "        name = url.split(\"/\")[-1]\n",
        "        path = tempfiles / str(index)\n",
        "        path.write_bytes(data)\n",
        "        print(\"Uploading:\", url)\n",
        "        file_info = genai.upload_file(path, display_name=name, mime_type=mime_type)\n",
        "        file_data[\"file_uri\"] = file_info.uri\n",
        "        return\n",
        "\n",
        "    if name := file_data.get(\"filename\", None):\n",
        "        if not pathlib.Path(name).exists():\n",
        "            raise IOError(\n",
        "                f\"local file: `{name}` does not exist. You can upload files \"\n",
        "                'to Colab using the file manager (\"📁 Files\" in the left '\n",
        "                \"toolbar)\"\n",
        "            )\n",
        "        file_info = genai.upload_file(path, display_name=name, mime_type=mime_type)\n",
        "        file_data[\"file_uri\"] = file_info.uri\n",
        "        return\n",
        "\n",
        "    if \"inline_data\" in file_data:\n",
        "        return\n",
        "\n",
        "    raise ValueError(\"Either `drive_id`, `url` or `inline_data` must be provided.\")\n",
        "\n",
        "\n",
        "contents = copy.deepcopy(gais_contents)\n",
        "\n",
        "index = 0\n",
        "for content in contents:\n",
        "    for n, part in enumerate(content[\"parts\"]):\n",
        "        if file_data := part.get(\"file_data\", None):\n",
        "            upload_file_data(file_data, index)\n",
        "            index += 1\n",
        "\n",
        "import json\n",
        "print(json.dumps(contents, indent=4))"
      ]
    },
    {
      "cell_type": "markdown",
      "metadata": {
        "id": "E7zAD69vE92b"
      },
      "source": [
        "## Call `generate_content`"
      ]
    },
    {
      "cell_type": "code",
      "execution_count": 4,
      "metadata": {
        "id": "LB2LxPmAB95V",
        "colab": {
          "base_uri": "https://localhost:8080/",
          "height": 1000
        },
        "outputId": "0acab922-b7f9-4521-b952-b0298cdc80a9"
      },
      "outputs": [
        {
          "output_type": "display_data",
          "data": {
            "text/plain": [
              "<IPython.core.display.Markdown object>"
            ],
            "text/markdown": "The provided Python function uses the Bubble Sort algorithm.  The time complexity of Bubble Sort is O(n^2) in the worst and average cases, and O(n) in the best case (when the list is already sorted).  This is because it involves nested loops, each iterating through the list (or a portion of it).\n\nHere's an optimized version using the Merge Sort algorithm, which has a time complexity of O(n log n) in all cases:\n\n```python\ndef merge_sort(list_to_sort):\n    \"\"\"\n    This function sorts a list of numbers in ascending order using the merge sort algorithm.\n\n    Args:\n      list_to_sort: A list of numbers to be sorted.\n\n    Returns:\n      A new list with the numbers sorted in ascending order.\n    \"\"\"\n    if len(list_to_sort) <= 1:\n        return list_to_sort\n\n    mid = len(list_to_sort) // 2\n    left_half = list_to_sort[:mid]\n    right_half = list_to_sort[mid:]\n\n    left_half = merge_sort(left_half)\n    right_half = merge_sort(right_half)\n\n    return merge(left_half, right_half)\n\ndef merge(left, right):\n    merged = []\n    i = j = 0\n\n    while i < len(left) and j < len(right):\n        if left[i] <= right[j]:\n            merged.append(left[i])\n            i += 1\n        else:\n            merged.append(right[j])\n            j += 1\n\n    merged.extend(left[i:])\n    merged.extend(right[j:])\n    return merged\n\n# Example usage\nmy_list = [1, 9, 5, 2, 1, 8, 6, 6, 3, 4, 10, 7]\nsorted_list = merge_sort(my_list)\nprint(sorted_list)  # Output: [1, 1, 2, 3, 4, 5, 6, 6, 7, 8, 9, 10]\n```\n\n**Why Merge Sort is faster:**\n\nMerge Sort is significantly faster than Bubble Sort for larger lists because of its time complexity.  While Bubble Sort makes many comparisons and swaps of adjacent elements, potentially repeatedly comparing and swapping the same elements, Merge Sort employs a \"divide and conquer\" strategy:\n\n1. **Divide:** It recursively divides the list into smaller sublists until each sublist contains only one element (which is inherently sorted).\n\n2. **Conquer:** It then repeatedly merges the sublists to produce new sorted sublists until there is only one sorted list remaining.  The merging process is efficient because it only needs to compare elements from the two sublists once.\n\nThe O(n log n) complexity of Merge Sort means that the number of operations grows proportionally to n multiplied by the logarithm of n.  This is considerably slower than the n² growth of Bubble Sort.  For large values of 'n', the difference in performance is dramatic.  While Merge Sort has a larger constant overhead (due to recursion), this is dwarfed by the reduction in the number of comparisons and swaps for larger input sizes.\n"
          },
          "metadata": {}
        }
      ],
      "source": [
        "from IPython.display import display\n",
        "from IPython.display import Markdown\n",
        "\n",
        "# Call the model and print the response.\n",
        "gemini = genai.GenerativeModel(model_name=model)\n",
        "\n",
        "response = gemini.generate_content(\n",
        "    contents,\n",
        "    generation_config=generation_config,\n",
        "    safety_settings=safety_settings,\n",
        "    stream=stream,\n",
        ")\n",
        "\n",
        "display(Markdown(response.text))"
      ]
    },
    {
      "cell_type": "markdown",
      "metadata": {
        "id": "9c9d345e9868"
      },
      "source": [
        "<table class=\"tfo-notebook-buttons\" align=\"left\">\n",
        "  <td>\n",
        "    <a target=\"_blank\" href=\"https://ai.google.dev/gemini-api/docs\"><img src=\"https://ai.google.dev/static/site-assets/images/docs/notebook-site-button.png\" height=\"32\" width=\"32\" />Docs on ai.google.dev</a>\n",
        "  </td>\n",
        "  <td>\n",
        "    <a target=\"_blank\" href=\"https://github.com/google-gemini/cookbook/blob/main/quickstarts\"><img src=\"https://www.tensorflow.org/images/GitHub-Mark-32px.png\" />More notebooks in the Cookbook</a>\n",
        "  </td>\n",
        "</table>"
      ]
    },
    {
      "cell_type": "markdown",
      "metadata": {
        "id": "F91AeeGO1ncU"
      },
      "source": [
        "## [optional] Show the conversation\n",
        "\n",
        "This section displays the conversation received from Google AI Studio."
      ]
    },
    {
      "cell_type": "code",
      "execution_count": 5,
      "metadata": {
        "cellView": "form",
        "id": "yoL3p3KPylFW",
        "colab": {
          "base_uri": "https://localhost:8080/"
        },
        "outputId": "f8b56640-f20f-47c0-dfc2-2392b4d52a3e"
      },
      "outputs": [
        {
          "output_type": "stream",
          "name": "stdout",
          "text": [
            "Role: user \n",
            "\n",
            "Here's a Python function that sorts a list of numbers in ascending order. Identify the time complexity of this function. Then optimize this function and explain why it is faster. Don't use Python's in-built sort() method.\\n\\n\\n```def sort_list(list_to_sort):\\n  \\\"\\\"\\\"\\n  This function sorts a list of numbers in ascending order using the bubble sort algorithm.\\n\\n  Args:\\n    list_to_sort: A list of numbers to be sorted.\\n\\n  Returns:\\n    A new list with the numbers sorted in ascending order.\\n  \\\"\\\"\\\"\\n  # Create a copy of the list to avoid modifying the original\\n  sorted_list = list_to_sort.copy()\\n  n = len(sorted_list)\\n\\n  # Iterate through the list n-1 times\\n  for i in range(n-1):\\n    # Flag to track if any swaps were made in a pass\\n    swapped = False\\n    # Iterate through the unsorted portion of the list\\n    for j in range(n-i-1):\\n      # Compare adjacent elements and swap if necessary\\n      if sorted_list[j] > sorted_list[j+1]:\\n        sorted_list[j], sorted_list[j+1] = sorted_list[j+1], sorted_list[j]\\n        swapped = True\\n    # If no swaps were made, the list is already sorted\\n    if not swapped:\\n      break\\n\\n  # Return the sorted list\\n  return sorted_list\\n\\n# Example usage\\nmy_list = [1, 9, 5, 2, 1, 8, 6, 6, 3, 4, 10, 7]\\nsorted_list = sort_list(my_list)\\nprint(sorted_list)  # Output: [1, 1, 2, 3, 4, 5, 6, 6, 7, 8, 9, 10]\\n``` \n",
            "\n",
            "-------------------------------------------------------------------------------- \n",
            "\n"
          ]
        }
      ],
      "source": [
        "# @title Show the conversation, in colab.\n",
        "import mimetypes\n",
        "\n",
        "def show_file(file_data):\n",
        "    mime_type = file_data[\"mime_type\"]\n",
        "\n",
        "    if drive_id := file_data.get(\"drive_id\", None):\n",
        "        path = next(\n",
        "            pathlib.Path(f\"/gdrive/.shortcut-targets-by-id/{drive_id}\").glob(\"*\")\n",
        "        )\n",
        "        name = path\n",
        "        # data = path.read_bytes()\n",
        "        kwargs = {\"filename\": path}\n",
        "    elif url := file_data.get(\"url\", None):\n",
        "        name = url\n",
        "        kwargs = {\"url\": url}\n",
        "        # response = requests.get(url)\n",
        "        # data = response.content\n",
        "    elif data := file_data.get(\"inline_data\", None):\n",
        "        name = None\n",
        "        kwargs = {\"data\": data}\n",
        "    elif name := file_data.get(\"filename\", None):\n",
        "        if not pathlib.Path(name).exists():\n",
        "            raise IOError(\n",
        "                f\"local file: `{name}` does not exist. You can upload files to \"\n",
        "                'Colab using the file manager (\"📁 Files\"in the left toolbar)'\n",
        "            )\n",
        "    else:\n",
        "        raise ValueError(\"Either `drive_id`, `url` or `inline_data` must be provided.\")\n",
        "\n",
        "        print(f\"File:\\n    name: {name}\\n    mime_type: {mime_type}\\n\")\n",
        "        return\n",
        "\n",
        "    format = mimetypes.guess_extension(mime_type).strip(\".\")\n",
        "    if mime_type.startswith(\"image/\"):\n",
        "        image = IPython.display.Image(**kwargs, width=256)\n",
        "        IPython.display.display(image)\n",
        "        print()\n",
        "        return\n",
        "\n",
        "    if mime_type.startswith(\"audio/\"):\n",
        "        if len(data) < 2**12:\n",
        "            audio = IPython.display.Audio(**kwargs)\n",
        "            IPython.display.display(audio)\n",
        "            print()\n",
        "            return\n",
        "\n",
        "    if mime_type.startswith(\"video/\"):\n",
        "        if len(data) < 2**12:\n",
        "            audio = IPython.display.Video(**kwargs, mimetype=mime_type)\n",
        "            IPython.display.display(audio)\n",
        "            print()\n",
        "            return\n",
        "\n",
        "    print(f\"File:\\n    name: {name}\\n    mime_type: {mime_type}\\n\")\n",
        "\n",
        "\n",
        "for content in gais_contents:\n",
        "    if role := content.get(\"role\", None):\n",
        "        print(\"Role:\", role, \"\\n\")\n",
        "\n",
        "    for n, part in enumerate(content[\"parts\"]):\n",
        "        if text := part.get(\"text\", None):\n",
        "            print(text, \"\\n\")\n",
        "\n",
        "        elif file_data := part.get(\"file_data\", None):\n",
        "            show_file(file_data)\n",
        "\n",
        "    print(\"-\" * 80, \"\\n\")"
      ]
    }
  ],
  "metadata": {
    "colab": {
      "collapsed_sections": [
        "Tce3stUlHN0L"
      ],
      "name": "aistudio_gemini_prompt_freeform.ipynb",
      "toc_visible": true,
      "provenance": [],
      "include_colab_link": true
    },
    "kernelspec": {
      "display_name": "Python 3",
      "name": "python3"
    }
  },
  "nbformat": 4,
  "nbformat_minor": 0
}